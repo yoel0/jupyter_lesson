{
 "cells": [
  {
   "cell_type": "code",
   "execution_count": 3,
   "metadata": {},
   "outputs": [
    {
     "data": {
      "text/plain": [
       "'\\nprimeRangeSum\\nWrite a function `primeRangeSum(num1, num2)` that takes two numbers and returns the sum of all prime numbers between start and end (inclusive).\\nExamples:\\nprimeRangeSum(10, 20);  => 60\\nprimeRangeSum(20, 10);  => 60\\nprimeRangeSum(20, 29);  => 52\\nprimeRangeSum(50, 41);  => 131\\n===================================================================\\nDefine a function is_prime(number) that returns `true`\\nif `number` is prime. Otherwise, false. Assume `number`\\nis a positive integer.\\nExamples:\\nisPrime(2); // => true\\nisPrime(7); // => true\\nisPrime(9); // => false\\nisPrime(10); // => false\\nisPrime(101); // => true\\nisPrime(104); // => false\\n'"
      ]
     },
     "execution_count": 3,
     "metadata": {},
     "output_type": "execute_result"
    }
   ],
   "source": [
    "'''\n",
    "primeRangeSum\n",
    "Write a function `primeRangeSum(num1, num2)` that takes two numbers and returns the sum of all prime numbers between start and end (inclusive).\n",
    "Examples:\n",
    "primeRangeSum(10, 20);  => 60\n",
    "primeRangeSum(20, 10);  => 60\n",
    "primeRangeSum(20, 29);  => 52\n",
    "primeRangeSum(50, 41);  => 131\n",
    "===================================================================\n",
    "Define a function is_prime(number) that returns `true`\n",
    "if `number` is prime. Otherwise, false. Assume `number`\n",
    "is a positive integer.\n",
    "Examples:\n",
    "isPrime(2); // => true\n",
    "isPrime(7); // => true\n",
    "isPrime(9); // => false\n",
    "isPrime(10); // => false\n",
    "isPrime(101); // => true\n",
    "isPrime(104); // => false\n",
    "'''"
   ]
  },
  {
   "cell_type": "code",
   "execution_count": 4,
   "metadata": {},
   "outputs": [
    {
     "data": {
      "text/plain": [
       "'\\nStep 1: Understand the problem.\\nStep 2: Devise a plan (translate).\\nStep 3: Carry out the plan (solve).\\nStep 4: look back (check and interpret).\\n'"
      ]
     },
     "execution_count": 4,
     "metadata": {},
     "output_type": "execute_result"
    }
   ],
   "source": [
    "'''\n",
    "Step 1: Understand the problem.\n",
    "Step 2: Devise a plan (translate).\n",
    "Step 3: Carry out the plan (solve).\n",
    "Step 4: look back (check and interpret).\n",
    "'''"
   ]
  },
  {
   "cell_type": "code",
   "execution_count": 20,
   "metadata": {},
   "outputs": [],
   "source": [
    "def is_prime(n):\n",
    "    # Anything that is less than 2 is not a prime\n",
    "    # A prime number is a number that is only divisible by itself\n",
    "    \n",
    "    if n < 2:\n",
    "        return False\n",
    "    # check each number from 2 to n to see if any number is divisible by n\n",
    "    \n",
    "    for i in range(2, n):\n",
    "        # check to see if n % i == 0\n",
    "        # one example is 15 -> False\n",
    "        \n",
    "        if n % i == 0:\n",
    "            return False\n",
    "    # Number is prime\n",
    "    return True\n",
    "    "
   ]
  },
  {
   "cell_type": "code",
   "execution_count": 13,
   "metadata": {},
   "outputs": [
    {
     "name": "stdout",
     "output_type": "stream",
     "text": [
      "True\n",
      "True\n",
      "False\n",
      "False\n",
      "True\n",
      "False\n",
      "False\n"
     ]
    }
   ],
   "source": [
    "print(is_prime(2))\n",
    "print(is_prime(7))\n",
    "print(is_prime(9))\n",
    "print(is_prime(10))\n",
    "print(is_prime(101))\n",
    "print(is_prime(104))\n",
    "print(is_prime(-1))"
   ]
  },
  {
   "cell_type": "code",
   "execution_count": 23,
   "metadata": {},
   "outputs": [],
   "source": [
    "def prime_range_sum(num1, num2):\n",
    "    # result variable to store additions of prime numbers\n",
    "    result = 0\n",
    "    \n",
    "    # check to see if num1 is less then num 2\n",
    "    if num1 > num2:\n",
    "        temp = num2\n",
    "        num2 = num1\n",
    "        \n",
    "        num1 = temp\n",
    "    \n",
    "    # loop from num1 to num2 (inclusive) and check each number to see if prime\n",
    "    # if prime, then i want to add the number to my result\n",
    "    for i in range(num1, (num2 + 1)):\n",
    "        # pass in i into my is_prime function\n",
    "        if (is_prime(i)):\n",
    "            result += i\n",
    "        \n",
    "    return result"
   ]
  },
  {
   "cell_type": "code",
   "execution_count": 24,
   "metadata": {},
   "outputs": [
    {
     "name": "stdout",
     "output_type": "stream",
     "text": [
      "60\n"
     ]
    }
   ],
   "source": [
    "print(prime_range_sum(10, 20)) # => 60\n",
    "# primeRangeSum(20, 10);  => 60\n",
    "# primeRangeSum(20, 29);  => 52\n",
    "# primeRangeSum(50, 41);  => 131"
   ]
  },
  {
   "cell_type": "code",
   "execution_count": null,
   "metadata": {},
   "outputs": [],
   "source": []
  }
 ],
 "metadata": {
  "kernelspec": {
   "display_name": "Python 3",
   "language": "python",
   "name": "python3"
  },
  "language_info": {
   "codemirror_mode": {
    "name": "ipython",
    "version": 3
   },
   "file_extension": ".py",
   "mimetype": "text/x-python",
   "name": "python",
   "nbconvert_exporter": "python",
   "pygments_lexer": "ipython3",
   "version": "3.8.5"
  }
 },
 "nbformat": 4,
 "nbformat_minor": 4
}
