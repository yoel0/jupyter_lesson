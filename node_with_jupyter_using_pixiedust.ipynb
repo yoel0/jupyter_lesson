{
 "cells": [
  {
   "cell_type": "code",
   "execution_count": 1,
   "metadata": {},
   "outputs": [
    {
     "name": "stdout",
     "output_type": "stream",
     "text": [
      "Pixiedust database opened successfully\n",
      "Table VERSION_TRACKER created successfully\n",
      "Table METRICS_TRACKER created successfully\n",
      "\n",
      "Share anonymous install statistics? (opt-out instructions)\n",
      "\n",
      "PixieDust will record metadata on its environment the next time the package is installed or updated. The data is anonymized and aggregated to help plan for future releases, and records only the following values:\n",
      "\n",
      "{\n",
      "   \"data_sent\": currentDate,\n",
      "   \"runtime\": \"python\",\n",
      "   \"application_version\": currentPixiedustVersion,\n",
      "   \"space_id\": nonIdentifyingUniqueId,\n",
      "   \"config\": {\n",
      "       \"repository_id\": \"https://github.com/ibm-watson-data-lab/pixiedust\",\n",
      "       \"target_runtimes\": [\"Data Science Experience\"],\n",
      "       \"event_id\": \"web\",\n",
      "       \"event_organizer\": \"dev-journeys\"\n",
      "   }\n",
      "}\n",
      "You can opt out by calling pixiedust.optOut() in a new cell.\n"
     ]
    },
    {
     "data": {
      "text/html": [
       "\n",
       "        <div style=\"margin:10px\">\n",
       "            <a href=\"https://github.com/ibm-watson-data-lab/pixiedust\" target=\"_new\">\n",
       "                <img src=\"https://github.com/ibm-watson-data-lab/pixiedust/raw/master/docs/_static/pd_icon32.png\" style=\"float:left;margin-right:10px\"/>\n",
       "            </a>\n",
       "            <span>Pixiedust version 1.1.18</span>\n",
       "        </div>\n",
       "        "
      ],
      "text/plain": [
       "<IPython.core.display.HTML object>"
      ]
     },
     "metadata": {},
     "output_type": "display_data"
    },
    {
     "name": "stdout",
     "output_type": "stream",
     "text": [
      "\u001b[31mPixiedust runtime updated. Please restart kernel\u001b[0m\n",
      "Table USER_PREFERENCES created successfully\n",
      "Table service_connections created successfully\n"
     ]
    },
    {
     "data": {
      "text/html": [
       "\n",
       "            <div style=\"margin:10px\"> \n",
       "            <a href=\"https://github.com/ibm-cds-labs/pixiedust_node\" target=\"_new\"> \n",
       "            <img src=\"https://github.com/ibm-cds-labs/pixiedust_node/raw/master/docs/_images/pdn_icon32.png\" style=\"float:left;margin-right:10px\"/> \n",
       "            </a> \n",
       "            <span>Pixiedust Node.js</span> \n",
       "            </div> \n"
      ],
      "text/plain": [
       "<IPython.core.display.HTML object>"
      ]
     },
     "metadata": {},
     "output_type": "display_data"
    },
    {
     "name": "stdout",
     "output_type": "stream",
     "text": [
      "pixiedust_node 0.2.5 started. Cells starting '%%node' may contain Node.js code.\n"
     ]
    }
   ],
   "source": [
    "import pixiedust_node"
   ]
  },
  {
   "cell_type": "code",
   "execution_count": 2,
   "metadata": {},
   "outputs": [
    {
     "name": "stdout",
     "output_type": "stream",
     "text": [
      "0.975\n",
      "\n"
     ]
    }
   ],
   "source": [
    "%%node\n",
    "\n",
    "const SALES_TAX = 0.975\n",
    "console.log(SALES_TAX)"
   ]
  },
  {
   "cell_type": "code",
   "execution_count": 3,
   "metadata": {},
   "outputs": [
    {
     "name": "stdout",
     "output_type": "stream",
     "text": [
      "... ...\n",
      "Hello, Bell.\n"
     ]
    }
   ],
   "source": [
    "%%node\n",
    "\n",
    "function HelloPerson(name) {\n",
    "    console.log(`Hello, ${name}.`);\n",
    "}\n",
    "\n",
    "HelloPerson('Bell')"
   ]
  },
  {
   "cell_type": "code",
   "execution_count": 4,
   "metadata": {},
   "outputs": [
    {
     "name": "stdout",
     "output_type": "stream",
     "text": [
      "/Users/yoel/.nvm/versions/node/v13.14.0/bin/npm install -s axios\n",
      "+ axios@0.20.0\n",
      "added 2 packages from 4 contributors and audited 2 packages in 0.835s\n",
      "1 package is looking for funding\n",
      "run `npm fund` for details\n",
      "found 0 vulnerabilities\n"
     ]
    }
   ],
   "source": [
    "npm.install('axios')"
   ]
  },
  {
   "cell_type": "code",
   "execution_count": 5,
   "metadata": {},
   "outputs": [],
   "source": [
    "%%node\n",
    "const axios = require('axios')"
   ]
  },
  {
   "cell_type": "code",
   "execution_count": 7,
   "metadata": {},
   "outputs": [
    {
     "name": "stdout",
     "output_type": "stream",
     "text": [
      "... ...\n",
      "{\n",
      "login: 'romebell',\n",
      "id: 13144457,\n",
      "node_id: 'MDQ6VXNlcjEzMTQ0NDU3',\n",
      "avatar_url: 'https://avatars2.githubusercontent.com/u/13144457?v=4',\n",
      "gravatar_id: '',\n",
      "url: 'https://api.github.com/users/romebell',\n",
      "html_url: 'https://github.com/romebell',\n",
      "followers_url: 'https://api.github.com/users/romebell/followers',\n",
      "following_url: 'https://api.github.com/users/romebell/following{/other_user}',\n",
      "gists_url: 'https://api.github.com/users/romebell/gists{/gist_id}',\n",
      "starred_url: 'https://api.github.com/users/romebell/starred{/owner}{/repo}',\n",
      "subscriptions_url: 'https://api.github.com/users/romebell/subscriptions',\n",
      "organizations_url: 'https://api.github.com/users/romebell/orgs',\n",
      "repos_url: 'https://api.github.com/users/romebell/repos',\n",
      "events_url: 'https://api.github.com/users/romebell/events{/privacy}',\n",
      "received_events_url: 'https://api.github.com/users/romebell/received_events',\n",
      "type: 'User',\n",
      "site_admin: false,\n",
      "name: 'Rome Bell',\n",
      "company: null,\n",
      "blog: '',\n",
      "location: 'San Francisco Bay Area',\n",
      "email: null,\n",
      "hireable: null,\n",
      "bio: 'Backend Engineer, Instructor',\n",
      "twitter_username: 'romebell',\n",
      "public_repos: 64,\n",
      "public_gists: 1,\n",
      "followers: 68,\n",
      "following: 115,\n",
      "created_at: '2015-07-02T03:18:03Z',\n",
      "updated_at: '2020-09-22T14:41:52Z'\n",
      "}\n"
     ]
    }
   ],
   "source": [
    "%%node\n",
    "axios.get('https://api.github.com/users/romebell').then(response => {\n",
    "    console.log(response.data);\n",
    "});"
   ]
  },
  {
   "cell_type": "code",
   "execution_count": null,
   "metadata": {},
   "outputs": [],
   "source": []
  }
 ],
 "metadata": {
  "kernelspec": {
   "display_name": "Python 3",
   "language": "python",
   "name": "python3"
  },
  "language_info": {
   "codemirror_mode": {
    "name": "ipython",
    "version": 3
   },
   "file_extension": ".py",
   "mimetype": "text/x-python",
   "name": "python",
   "nbconvert_exporter": "python",
   "pygments_lexer": "ipython3",
   "version": "3.8.5"
  }
 },
 "nbformat": 4,
 "nbformat_minor": 4
}
